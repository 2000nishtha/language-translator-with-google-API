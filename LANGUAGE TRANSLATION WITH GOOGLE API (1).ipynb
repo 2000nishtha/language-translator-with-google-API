{
 "cells": [
  {
   "cell_type": "code",
   "execution_count": 1,
   "metadata": {},
   "outputs": [
    {
     "name": "stdout",
     "output_type": "stream",
     "text": [
      "Requirement already satisfied: gtts in f:\\users\\s-gd\\anaconda3\\lib\\site-packages (2.1.1)\n",
      "Requirement already satisfied: requests in f:\\users\\s-gd\\anaconda3\\lib\\site-packages (from gtts) (2.22.0)\n",
      "Requirement already satisfied: gtts-token>=1.1.3 in f:\\users\\s-gd\\anaconda3\\lib\\site-packages (from gtts) (1.1.3)\n",
      "Requirement already satisfied: click in f:\\users\\s-gd\\anaconda3\\lib\\site-packages (from gtts) (7.0)\n",
      "Requirement already satisfied: six in f:\\users\\s-gd\\anaconda3\\lib\\site-packages (from gtts) (1.14.0)\n",
      "Requirement already satisfied: beautifulsoup4 in f:\\users\\s-gd\\anaconda3\\lib\\site-packages (from gtts) (4.8.2)\n",
      "Requirement already satisfied: chardet<3.1.0,>=3.0.2 in f:\\users\\s-gd\\anaconda3\\lib\\site-packages (from requests->gtts) (3.0.4)\n",
      "Requirement already satisfied: idna<2.9,>=2.5 in f:\\users\\s-gd\\anaconda3\\lib\\site-packages (from requests->gtts) (2.8)\n",
      "Requirement already satisfied: certifi>=2017.4.17 in f:\\users\\s-gd\\anaconda3\\lib\\site-packages (from requests->gtts) (2019.11.28)\n",
      "Requirement already satisfied: urllib3!=1.25.0,!=1.25.1,<1.26,>=1.21.1 in f:\\users\\s-gd\\anaconda3\\lib\\site-packages (from requests->gtts) (1.25.8)\n",
      "Requirement already satisfied: soupsieve>=1.2 in f:\\users\\s-gd\\anaconda3\\lib\\site-packages (from beautifulsoup4->gtts) (1.9.5)\n"
     ]
    }
   ],
   "source": [
    "!pip install gtts"
   ]
  },
  {
   "cell_type": "code",
   "execution_count": 2,
   "metadata": {},
   "outputs": [
    {
     "name": "stdout",
     "output_type": "stream",
     "text": [
      "Requirement already satisfied: SpeechRecognition in f:\\users\\s-gd\\anaconda3\\lib\\site-packages (3.8.1)\n"
     ]
    }
   ],
   "source": [
    "!pip install SpeechRecognition"
   ]
  },
  {
   "cell_type": "code",
   "execution_count": 3,
   "metadata": {},
   "outputs": [
    {
     "name": "stdout",
     "output_type": "stream",
     "text": [
      "Requirement already satisfied: googletrans in f:\\users\\s-gd\\anaconda3\\lib\\site-packages (3.0.0)\n",
      "Requirement already satisfied: httpx==0.13.3 in f:\\users\\s-gd\\anaconda3\\lib\\site-packages (from googletrans) (0.13.3)\n",
      "Requirement already satisfied: hstspreload in f:\\users\\s-gd\\anaconda3\\lib\\site-packages (from httpx==0.13.3->googletrans) (2020.10.20)\n",
      "Requirement already satisfied: sniffio in f:\\users\\s-gd\\anaconda3\\lib\\site-packages (from httpx==0.13.3->googletrans) (1.2.0)\n",
      "Requirement already satisfied: chardet==3.* in f:\\users\\s-gd\\anaconda3\\lib\\site-packages (from httpx==0.13.3->googletrans) (3.0.4)\n",
      "Requirement already satisfied: rfc3986<2,>=1.3 in f:\\users\\s-gd\\anaconda3\\lib\\site-packages (from httpx==0.13.3->googletrans) (1.4.0)\n",
      "Requirement already satisfied: httpcore==0.9.* in f:\\users\\s-gd\\anaconda3\\lib\\site-packages (from httpx==0.13.3->googletrans) (0.9.1)\n",
      "Requirement already satisfied: certifi in f:\\users\\s-gd\\anaconda3\\lib\\site-packages (from httpx==0.13.3->googletrans) (2019.11.28)\n",
      "Requirement already satisfied: idna==2.* in f:\\users\\s-gd\\anaconda3\\lib\\site-packages (from httpx==0.13.3->googletrans) (2.8)\n",
      "Requirement already satisfied: h2==3.* in f:\\users\\s-gd\\anaconda3\\lib\\site-packages (from httpcore==0.9.*->httpx==0.13.3->googletrans) (3.2.0)\n",
      "Requirement already satisfied: h11<0.10,>=0.8 in f:\\users\\s-gd\\anaconda3\\lib\\site-packages (from httpcore==0.9.*->httpx==0.13.3->googletrans) (0.9.0)\n",
      "Requirement already satisfied: hpack<4,>=3.0 in f:\\users\\s-gd\\anaconda3\\lib\\site-packages (from h2==3.*->httpcore==0.9.*->httpx==0.13.3->googletrans) (3.0.0)\n",
      "Requirement already satisfied: hyperframe<6,>=5.2.0 in f:\\users\\s-gd\\anaconda3\\lib\\site-packages (from h2==3.*->httpcore==0.9.*->httpx==0.13.3->googletrans) (5.2.0)\n"
     ]
    }
   ],
   "source": [
    "!pip install googletrans"
   ]
  },
  {
   "cell_type": "code",
   "execution_count": 4,
   "metadata": {},
   "outputs": [
    {
     "name": "stdout",
     "output_type": "stream",
     "text": [
      "Collecting package metadata (current_repodata.json): ...working... done\n",
      "Solving environment: ...working... done\n",
      "\n",
      "# All requested packages already installed.\n",
      "\n",
      "\n",
      "Note: you may need to restart the kernel to use updated packages.\n"
     ]
    }
   ],
   "source": [
    "conda install -c anaconda pyaudio"
   ]
  },
  {
   "cell_type": "code",
   "execution_count": 5,
   "metadata": {},
   "outputs": [
    {
     "name": "stdout",
     "output_type": "stream",
     "text": [
      "Speak 'Hello' to initiate the Translation!\n",
      "----------------------------\n",
      "Speak a sentence...\n",
      "Phrase to be Tranlated: my name is Parth Gahlot\n"
     ]
    }
   ],
   "source": [
    "#Import Necessary Libraries\n",
    "import speech_recognition as spr\n",
    "from googletrans import Translator\n",
    "from gtts import gTTS\n",
    "import os\n",
    "\n",
    "#Create Recognizer() class objects called recog1 and recog2\n",
    "recog1 = spr.Recognizer()\n",
    "recog2 = spr.Recognizer()\n",
    "\n",
    "#Create microphone instance with device microphone chosen whose index value is 0\n",
    "mc = spr.Microphone(device_index=0)\n",
    "\n",
    "#Capture voice\n",
    "with mc as source:\n",
    "    print(\"Speak 'Hello' to initiate the Translation!\")\n",
    "    print(\"----------------------------\")\n",
    "    audio = recog1.listen(source)\n",
    "\n",
    "#Based on speech, tranlate the sentence into another language\n",
    "if 'hello' in recog1.recognize_google(audio):\n",
    "    recog1 = spr.Recognizer()\n",
    "    translator = Translator()\n",
    "    from_lang = 'en'\n",
    "    to_lang = 'hi'\n",
    "    with mc as source:\n",
    "        print('Speak a sentence...')\n",
    "        audio = recog2.listen(source)\n",
    "        get_sentence = recog2.recognize_google(audio)\n",
    "        \n",
    "        try:\n",
    "            get_sentence = recog2.recognize_google(audio)\n",
    "            print('Phrase to be Tranlated: '+ get_sentence)\n",
    "            text_to_translate = translator.translate(get_sentence, src = from_lang, dest = to_lang)\n",
    "            text = text_to_translate.text\n",
    "            speak = gTTS(text=text, lang = to_lang, slow = False)\n",
    "            speak.save(\"captured_voice.mp3\")\n",
    "            os.system(\"start captured_voice.mp3\")\n",
    "        except spr.UnknownValueError:\n",
    "            print(\"Unable to understand the input\")\n",
    "        except spr.RequestError as e:\n",
    "            print(\"Unable to provide required output\".format(e))"
   ]
  },
  {
   "cell_type": "code",
   "execution_count": 6,
   "metadata": {},
   "outputs": [
    {
     "name": "stdout",
     "output_type": "stream",
     "text": [
      "{'af': 'afrikaans', 'sq': 'albanian', 'am': 'amharic', 'ar': 'arabic', 'hy': 'armenian', 'az': 'azerbaijani', 'eu': 'basque', 'be': 'belarusian', 'bn': 'bengali', 'bs': 'bosnian', 'bg': 'bulgarian', 'ca': 'catalan', 'ceb': 'cebuano', 'ny': 'chichewa', 'zh-cn': 'chinese (simplified)', 'zh-tw': 'chinese (traditional)', 'co': 'corsican', 'hr': 'croatian', 'cs': 'czech', 'da': 'danish', 'nl': 'dutch', 'en': 'english', 'eo': 'esperanto', 'et': 'estonian', 'tl': 'filipino', 'fi': 'finnish', 'fr': 'french', 'fy': 'frisian', 'gl': 'galician', 'ka': 'georgian', 'de': 'german', 'el': 'greek', 'gu': 'gujarati', 'ht': 'haitian creole', 'ha': 'hausa', 'haw': 'hawaiian', 'iw': 'hebrew', 'he': 'hebrew', 'hi': 'hindi', 'hmn': 'hmong', 'hu': 'hungarian', 'is': 'icelandic', 'ig': 'igbo', 'id': 'indonesian', 'ga': 'irish', 'it': 'italian', 'ja': 'japanese', 'jw': 'javanese', 'kn': 'kannada', 'kk': 'kazakh', 'km': 'khmer', 'ko': 'korean', 'ku': 'kurdish (kurmanji)', 'ky': 'kyrgyz', 'lo': 'lao', 'la': 'latin', 'lv': 'latvian', 'lt': 'lithuanian', 'lb': 'luxembourgish', 'mk': 'macedonian', 'mg': 'malagasy', 'ms': 'malay', 'ml': 'malayalam', 'mt': 'maltese', 'mi': 'maori', 'mr': 'marathi', 'mn': 'mongolian', 'my': 'myanmar (burmese)', 'ne': 'nepali', 'no': 'norwegian', 'or': 'odia', 'ps': 'pashto', 'fa': 'persian', 'pl': 'polish', 'pt': 'portuguese', 'pa': 'punjabi', 'ro': 'romanian', 'ru': 'russian', 'sm': 'samoan', 'gd': 'scots gaelic', 'sr': 'serbian', 'st': 'sesotho', 'sn': 'shona', 'sd': 'sindhi', 'si': 'sinhala', 'sk': 'slovak', 'sl': 'slovenian', 'so': 'somali', 'es': 'spanish', 'su': 'sundanese', 'sw': 'swahili', 'sv': 'swedish', 'tg': 'tajik', 'ta': 'tamil', 'te': 'telugu', 'th': 'thai', 'tr': 'turkish', 'uk': 'ukrainian', 'ur': 'urdu', 'ug': 'uyghur', 'uz': 'uzbek', 'vi': 'vietnamese', 'cy': 'welsh', 'xh': 'xhosa', 'yi': 'yiddish', 'yo': 'yoruba', 'zu': 'zulu'}\n"
     ]
    }
   ],
   "source": [
    "#Check what all languages are supported\n",
    "import googletrans\n",
    "print(googletrans.LANGUAGES)"
   ]
  },
  {
   "cell_type": "code",
   "execution_count": null,
   "metadata": {},
   "outputs": [],
   "source": []
  }
 ],
 "metadata": {
  "kernelspec": {
   "display_name": "Python 3",
   "language": "python",
   "name": "python3"
  },
  "language_info": {
   "codemirror_mode": {
    "name": "ipython",
    "version": 3
   },
   "file_extension": ".py",
   "mimetype": "text/x-python",
   "name": "python",
   "nbconvert_exporter": "python",
   "pygments_lexer": "ipython3",
   "version": "3.7.6"
  }
 },
 "nbformat": 4,
 "nbformat_minor": 4
}
